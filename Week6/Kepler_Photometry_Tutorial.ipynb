{
 "cells": [
  {
   "cell_type": "markdown",
   "metadata": {},
   "source": [
    "# Detecting Planets With Kepler Photometry #\n",
    "\n",
    "by: Isabel Angelo, based on [Lightkurve Tutorial](https://github.com/howardisaacson/Introduction-to-Astronomy-Research/blob/master/Week6/Lightkurve%20Tutorial.ipynb) by Ruben Santana\n",
    "\n",
    "### Introduction: How does Kepler find exoplanets? ###\n",
    "The most common method thus far in detecting exoplanets is via the transit method. This method involves using stellar photometry (i.e. mapping the star's brightness as a function of time)  to observe periodic drops in brightness due to a planet passing in front of the star:\n",
    "\n",
    "![alt text](transit.png \"Title\")\n",
    "\n",
    "Most planets found via the transit method have been detected by the *Kepler* space telescope.*Kepler* takes photometric data of ~100,000 stars in the sky at a given time to check for signatures of exoplanets. Thousands of planets have been discovered by *Kepler* in the past 10 years, and it is by far the most successful planet-finding mission to date!\n",
    "\n",
    "For this tutorial, we will download photometric data from *Kepler* that is available online. We will then use the data to detect a planet and determine it's size and temperature.\n",
    "\n",
    "### Using Lightkurve to Analyze Flux Time-Series Data ###\n",
    "After *Kepler* takes photometric data, it runs it through a \n",
    "[data processing pipeline](https://github.com/nasa/kepler-pipeline/) that prepares the data for analysis. The process files are then made avaiable on the \n",
    "[Mikulski Archive for Space Telescopes (MAST)](https://archive.stsci.edu/kepler/data_search/search.php). Here we will use ready and available *Kepler* data from MAST. We will then further process our data using [lightkurve](https://lightkurve.keplerscience.org/index.html), a Python package created specifically for analyzing flux time-series (i.e. photometric) data. \n",
    "\n",
    "### Installing Lightkurve ###\n",
    "\n",
    "We will begin by making sure we have all the python packages needed for the tutorial. First, we will install lightkurve by typing:\n",
    "\n",
    "`pip install lightkurve`\n",
    "\n",
    "on the terminal and hitting enter. This should install the package and all the requirements.\n",
    "\n",
    "### Getting Started: Selecting a Target and Data from the Archives ###\n",
    "\n",
    "Let's begin by importing the packages we'll need in python:"
   ]
  },
  {
   "cell_type": "code",
   "execution_count": 1,
   "metadata": {},
   "outputs": [],
   "source": [
    "from lightkurve import KeplerTargetPixelFile, KeplerLightCurveFile, lightcurve\n",
    "import numpy as np\n",
    "import matplotlib.pyplot as plt\n",
    "%matplotlib inline"
   ]
  },
  {
   "cell_type": "markdown",
   "metadata": {},
   "source": [
    "Next we want to select the target and quarters to extract from the data archives. We can choose the target star by either using the star ID, kepler-#, or KOI-#. As an example, I am going to use the star-planet system 'KOI-217'. Feel free to explore other systems as you get a better idea of the process!\n",
    "\n",
    "We also need to choose how many quarters (of a year) of data we want to download. Kepler observed for a total of about 4 years, or 17 quarters. To start we will try using all of the data available for this target (quarters 1-17):"
   ]
  },
  {
   "cell_type": "code",
   "execution_count": 2,
   "metadata": {},
   "outputs": [],
   "source": [
    "target = '' #type your target name as a string here\n",
    "qRange = [0,0] #type your quarter range here (quarters 1-3 would be [1,3])"
   ]
  },
  {
   "cell_type": "markdown",
   "metadata": {},
   "source": [
    "### Reducing and Modifying Data to Create a Light Curve ###\n",
    "\n",
    "Next we need to upload the data and modify it into a data set that is easy to analyze. This part is a little complicated, so we can walk through it together. For more details, see Ruben's \"Lightkurve Tutorial\" in this week's files. \n",
    "\n",
    "Here we extract two kinds of visual data sets (TargetPixelFiles (TPFs) and Light Curves (LC)) and store them in lists:"
   ]
  },
  {
   "cell_type": "code",
   "execution_count": 3,
   "metadata": {},
   "outputs": [],
   "source": [
    "%%capture\n",
    "#List to hold our TargetPixelFile & LightCurveFile\n",
    "lc = []\n",
    "tpfs = []\n",
    "for q in range(qRange[0],qRange[1]):\n",
    "    #Note some quarters are missing, so we'll use Python's try/except to avoid crashing\n",
    "    try:\n",
    "        lc.append(KeplerLightCurveFile.from_archive(target, quarter=q))\n",
    "        tpfs.append(KeplerTargetPixelFile.from_archive(target, quarter=q))\n",
    "    except:\n",
    "        continue"
   ]
  },
  {
   "cell_type": "markdown",
   "metadata": {},
   "source": [
    "Now, we will combine all the PDCSAP quarters into one array. We will also normalize the arrays to account for variations in the detectore using the funciton .normalize():"
   ]
  },
  {
   "cell_type": "code",
   "execution_count": 4,
   "metadata": {},
   "outputs": [],
   "source": [
    "lcs = []\n",
    "lcsNorm = []\n",
    "for q in range(qRange[0],qRange[1]):\n",
    "    try:\n",
    "        lcs = lcs.append(KeplerLightCurveFile.from_archive(target, quarter=q).PDCSAP_FLUX)\n",
    "        lcsNorm = lcsNorm.append(KeplerLightCurveFile.from_archive(target, quarter=q).PDCSAP_FLUX.normalize())\n",
    "        \n",
    "    except:\n",
    "        continue"
   ]
  },
  {
   "cell_type": "markdown",
   "metadata": {},
   "source": [
    "Finally, we will flatten the light curve and remove all the \"bad\" data points (i.e. outliers and NaN values):"
   ]
  },
  {
   "cell_type": "code",
   "execution_count": 6,
   "metadata": {},
   "outputs": [],
   "source": [
    "%%capture  \n",
    "#Build the light curve\n",
    "pipeline_lc = tpfs[0].to_lightcurve().flatten()\n",
    "for tpf in tpfs:\n",
    "    pipeline_lc = pipeline_lc.append(tpf.to_lightcurve().flatten())\n",
    "\n",
    "#Clean the light curve\n",
    "pipeline_lc = pipeline_lc.remove_nans()\n",
    "pipeline_lc = pipeline_lc.remove_outliers()"
   ]
  },
  {
   "cell_type": "markdown",
   "metadata": {},
   "source": [
    "### Plotting the Pipeline ###\n",
    "\n",
    "Our data is now ready for analysis! Let's first take a look at the light curve by plotting it:"
   ]
  },
  {
   "cell_type": "code",
   "execution_count": 7,
   "metadata": {},
   "outputs": [],
   "source": [
    "#plot your pipeline light curve here"
   ]
  },
  {
   "cell_type": "markdown",
   "metadata": {},
   "source": [
    "### Find the Period of the Planet ###\n",
    "\n",
    "Next we want to find the period of the planet so that we know where in the light curve to look for transits. Fortunately, the lightkurve package has a function called iterative_box_period_search that computes lists of possible periods and a \"best match\", or most accurate estimate of the planet's period.\n",
    "\n",
    "Read about the function here: http://lightkurve.keplerscience.org/api/lightkurve.lightcurve.iterative_box_period_search.html\n",
    "and run it to extract the period of the planet.\n",
    "\n",
    "notes: \n",
    "1. This code runs through a list of possible periods and tests each one to see which one fits the data the best. To avoid testing through too many unnecessary periods, it is helpful to set min_period and max_period to values close (~1 day) to the actual planet period, which you can find on the [NASA Exoplanet Archive](https://www.google.com/search?q=nasa+exoplanet+archive&oq=nasa+exoplan&aqs=chrome.0.69i59l3j69i57j69i60l2.1519j0j7&sourceid=chrome&ie=UTF-8)\n",
    "\n",
    "2. The precision of possible periods is determined by the input nperiods, which describes the number of periods that are tested. For our purposes, we need a very precise period, which means we should be testing at least 20,000 periods total to get an accurate measurement."
   ]
  },
  {
   "cell_type": "code",
   "execution_count": 8,
   "metadata": {},
   "outputs": [],
   "source": [
    "#Uncomment the following function and fill in the input arguements to find the period. \n",
    "#See lightkurve website for more information. \n",
    "\n",
    "#log_list, trial_periods, period = lightcurve.iterative_box_period_search(lc = , \n",
    "#                                                  niters= , \n",
    "#                                                  min_period= , \n",
    "#                                                  max_period= , \n",
    "#                                                  nperiods= , \n",
    "#                                                  period_scale= )\n",
    "#print(period) "
   ]
  },
  {
   "cell_type": "markdown",
   "metadata": {},
   "source": [
    "### Folding and Binning Data ###\n",
    "\n",
    "Next we want to perform two functions to our pipline lightcurve (`pipeline_lc`) to the data necessary for extracting a single transit: folding and binning. \n",
    "\n",
    "Folding the data means that you superimpose all the transits with the same period on top of one another to output a single transit curve. You can do this by using the lightkurve function .fold() (see function [here](http://lightkurve.keplerscience.org/api/lightkurve.lightcurve.LightCurve.html#lightkurve.lightcurve.LightCurve.fold)).\n",
    "\n",
    "We then want to bin the data. Kepler takes tons of observations, so we end up with graphs that have very large amounts of data points. Binning averages multiple data points together so that our graph has a reasonable number of points. This can be done with the .bin() function (see function [here]( http://lightkurve.keplerscience.org/api/lightkurve.lightcurve.LightCurve.html#lightkurve.lightcurve.LightCurve.fold)):\n"
   ]
  },
  {
   "cell_type": "code",
   "execution_count": 9,
   "metadata": {},
   "outputs": [],
   "source": [
    "folded_lc = []#use .fold() to fold your pipeline light curve\n",
    "final_lc = []#use .bin() to bin your folded pipeline light curve"
   ]
  },
  {
   "cell_type": "markdown",
   "metadata": {},
   "source": [
    "Next, plot your folded and binned light curve to see the final transit! You may want to change the x limits of the graph using plt.xlim() to get a better view of the transit alone. Your plot should resemble the graph in the figure of a transit at the top of this tutorial. "
   ]
  },
  {
   "cell_type": "code",
   "execution_count": 10,
   "metadata": {},
   "outputs": [],
   "source": [
    "#plot your final light curve here"
   ]
  },
  {
   "cell_type": "markdown",
   "metadata": {},
   "source": [
    "### Determing the Planet Size from a Transit ###\n",
    "\n",
    "One of the main planet properties we can know from the light curve is the planet size. The transit depth $d$ is related to the planet radius $R_p$ as follows:\n",
    "\n",
    "$d = \\frac{\\Delta F}{F} = (\\frac{R_p}{R_*})^2$\n",
    "\n",
    "where $R_p$ is the planet radius, $R_*$ is the radius of the host star, and $\\frac{\\Delta F}{F}$ is the normalized transit depth (where $F_{in}$ and $F_{out}$ refer to the flux in and out of transit, respectively):\n",
    "\n",
    "$\\frac{\\Delta F}{F} = \\frac{F_{out}-F_{in}}{F_{out}}$ \n",
    "\n",
    "We can therefore calculate the planet radius if we know the transit depth and radius of the host star. \n",
    "\n",
    "Compute the transit depth in the cell below. You can do this analytically using values from the final_lc array, or alternatively by your own inspection of the graph."
   ]
  },
  {
   "cell_type": "code",
   "execution_count": 11,
   "metadata": {},
   "outputs": [
    {
     "name": "stdout",
     "output_type": "stream",
     "text": [
      "0\n"
     ]
    }
   ],
   "source": [
    "depth = 0 #calculate your transit depth here\n",
    "print(depth)"
   ]
  },
  {
   "cell_type": "markdown",
   "metadata": {},
   "source": [
    "Plug this depth in to the transit depth equation to get the planet radius. You can get the stellar radius from the NASA exoplanet archive. \n",
    "\n",
    "note: make sure you are using consistent units!! It will be helpful to convert your final planet radius into Earth radii so you can compare it to the value listed for the planet on the archive."
   ]
  },
  {
   "cell_type": "code",
   "execution_count": 12,
   "metadata": {},
   "outputs": [
    {
     "name": "stdout",
     "output_type": "stream",
     "text": [
      "0\n"
     ]
    }
   ],
   "source": [
    "#solve for the planet radius Rp here\n",
    "Rp = 0\n",
    "print(Rp)"
   ]
  },
  {
   "cell_type": "markdown",
   "metadata": {},
   "source": [
    "### Calculating the Planet's Orbital Semi-Major Axis ###\n",
    "\n",
    "Another thing we can learn from transit photometry is the planet's orbital semi-major axis, or distance from it's host star. We can do this using the period in [Kepler's 3rd Law of Planetary Motion](https://en.wikipedia.org/wiki/Kepler%27s_laws_of_planetary_motion):\n",
    "\n",
    "$\\frac{T^2}{a^3} = \\frac{4\\pi^2}{G(M_*+M_p)} \\approx \\frac{4\\pi^2}{GM_*}$\n",
    "\n",
    "Where $T$ is the orbital period and $a$ is the semi-major axis. Use this equation to solve for a. Once again, be wary of units and try to compute your answer in AU and confirm with the value listed in the exoplanet archive."
   ]
  },
  {
   "cell_type": "code",
   "execution_count": 13,
   "metadata": {},
   "outputs": [
    {
     "name": "stdout",
     "output_type": "stream",
     "text": [
      "0\n"
     ]
    }
   ],
   "source": [
    "#solve for the orbital semi-major axis (a) here\n",
    "a = 0\n",
    "print(Rp)"
   ]
  },
  {
   "cell_type": "markdown",
   "metadata": {},
   "source": [
    "Congratualations, you've officially detected a planet and extracted it's size and orbital distance with *Kepler* data! \n",
    "\n",
    "### Bonus Round: Stellar Flux Recieved Relative to Earth ###\n",
    "\n",
    "In the interest of habitability, it is helpful to learn about how much star light the planet receives relative to Earth. If it receives a relatively similar amount, we consider the planet to be within the star's habitable zone. \n",
    "\n",
    "The flux recieved by the planet from the host star can be modeled as follows:\n",
    "\n",
    "$F = \\frac{L_\\odot}{4\\pi a^2}$\n",
    "\n",
    "where $a$ is the orbital semi-major axis. Calculate the flux received by our planet and convert it into flux received relative to that received by Earth from the Sun. If you can't find the star's luminosity online, you can use an estimate of luminosities for stars of the same star type. Is our planet in the habitable zone?"
   ]
  },
  {
   "cell_type": "code",
   "execution_count": 14,
   "metadata": {},
   "outputs": [],
   "source": [
    "#solve for the flux received (F) here."
   ]
  },
  {
   "cell_type": "markdown",
   "metadata": {},
   "source": [
    "You've done it! Feel free to plug in different exoplanet systems for \"target\" and change subsequent cells accordingly to find information about other known exoplanets. "
   ]
  }
 ],
 "metadata": {
  "kernelspec": {
   "display_name": "Python 3",
   "language": "python",
   "name": "python3"
  },
  "language_info": {
   "codemirror_mode": {
    "name": "ipython",
    "version": 3
   },
   "file_extension": ".py",
   "mimetype": "text/x-python",
   "name": "python",
   "nbconvert_exporter": "python",
   "pygments_lexer": "ipython3",
   "version": "3.7.0b5"
  }
 },
 "nbformat": 4,
 "nbformat_minor": 2
}
