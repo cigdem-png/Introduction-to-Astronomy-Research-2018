{
 "cells": [
  {
   "cell_type": "markdown",
   "metadata": {},
   "source": [
    "# Welcome to the Intro to Astronomy Research Gaia Data Release 2 (DR2) Tutorial.\n",
    "\n",
    "#### Written by Sarah Blunt, 2018\n",
    "\n",
    "### In this tutorial, you will:\n",
    "- learn about the Astronomical Data Query Language (ADQL)\n",
    "- use the Gaia DR2 Database and the NASA Exoplanet Archive to get Gaia parameters for the 10,000 closest stars\n",
    "- plot a color-magnitude diagram\n",
    "\n",
    "### Notes:\n",
    "- This tutorial is challenging! If you spend more than 15 minutes stuck on a task, post about it on Piazza (you can post anonymously if you want). An instructor will help you out! Don't struggle needlessly.\n",
    "- Make sure you complete the pandas and matplotlib tutorials before attempting this tutorial."
   ]
  },
  {
   "cell_type": "markdown",
   "metadata": {},
   "source": [
    "# Learn About ADQL\n",
    "\n",
    "- Navigate to the Gaia ADQL interface. First, go [here](https://gea.esac.esa.int/archive/). Click \"Search,\" then click \"Advanced (ADQL)\" (in the top left corner of the page). \n",
    "\n",
    "- Read [this webpage](https://gea.esac.esa.int/archive-help/adql/index.html). \n",
    "\n",
    "- Read slides 6-17 in [this powerpoint](https://www.cosmos.esa.int/documents/915837/915858/ADQL_handson_slides.pdf/652b9120-a3fe-4857-b5eb-933b476687ad).\n",
    "\n",
    "   Try out some of the commands for yourself in the Gaia ADQL search bar you opened in step 1. Using the buttons that pop up to the right of your query results, you can download the results or view them in your browser. Hover over the buttons to see what they do.\n",
    "\n",
    "   Don't worry if you don't understand everything in the powerpoint! Pick out the 7 most important slides and summarize them for yourself. \n",
    "   \n",
    "   ** Note: wherever the powerpoint uses \"gaiadr1.tgas_source,\" replace with \"gaiadr2.gaia_source.\""
   ]
  },
  {
   "cell_type": "markdown",
   "metadata": {},
   "source": [
    "# Use the Gaia DR2 Database and the NASA Exoplanet Archive to Get Gaia Parameters for the 10,000 Closest Stars"
   ]
  },
  {
   "cell_type": "markdown",
   "metadata": {},
   "source": [
    "### Write an ADQL query to get parameters of the 10,000 closest stars. Your query should return the following parameters:\n",
    "\n",
    "- BP - RP color (bp_rp in the Gaia database)\n",
    "- absolute g-band photometric magnitude \n",
    "- distance\n",
    "\n",
    "### Download your Query Results as a csv file. \n",
    "\n",
    "### Hints:\n",
    "- Distance is the inverse of parallax. \n",
    "- You can calculate absolute photometric magnitude in the gband using this formula: phot_g_mean_mag + 5 + 5 * log10(parallax/1000)\n",
    "- You'll need to use \"ORDER BY\" in your ADQL command.\n",
    "- Some Gaia sources have negative parallaxes due to instrumental imperfections. You'll need to add a line to your query specifying that parallax must be greater than 0. \n",
    "- Using the buttons that pop up to the right of your query results, you can download the results or view them in your browser. Hover over the buttons to see what they do."
   ]
  },
  {
   "cell_type": "markdown",
   "metadata": {},
   "source": [
    "# Plot a Color-Magnitude Diagram of the 10,000 Closest Stars"
   ]
  },
  {
   "cell_type": "markdown",
   "metadata": {},
   "source": [
    "### 1. Using [pandas.read_csv](https://pandas.pydata.org/pandas-docs/stable/generated/pandas.read_csv.html), read your downloaded csv file into a pandas DataFrame"
   ]
  },
  {
   "cell_type": "code",
   "execution_count": 72,
   "metadata": {},
   "outputs": [
    {
     "name": "stdout",
     "output_type": "stream",
     "text": [
      "Populating the interactive namespace from numpy and matplotlib\n"
     ]
    }
   ],
   "source": [
    "import pandas as pd\n",
    "import matplotlib.pyplot as plt\n",
    "%pylab inline\n",
    "\n",
    "# Type your pd.read_csv command here: \n",
    "\n",
    "# HINTS: \n",
    "# - make sure the jupyter notebook and your csv file are in the same directory\n",
    "# - your read_csv command should be 1 line of code"
   ]
  },
  {
   "cell_type": "markdown",
   "metadata": {},
   "source": [
    "### 2. Using matplotlib.pyplot, make a scatterplot of BP-RP color vs absolute g-band magnitude. This is a [color-magnitude diagram](https://en.wikipedia.org/wiki/Hertzsprung%E2%80%93Russell_diagram)! "
   ]
  },
  {
   "cell_type": "code",
   "execution_count": 75,
   "metadata": {},
   "outputs": [
    {
     "data": {
      "text/plain": [
       "<Figure size 432x288 with 0 Axes>"
      ]
     },
     "execution_count": 75,
     "metadata": {},
     "output_type": "execute_result"
    },
    {
     "data": {
      "text/plain": [
       "<Figure size 432x288 with 0 Axes>"
      ]
     },
     "metadata": {},
     "output_type": "display_data"
    }
   ],
   "source": [
    "plt.figure()\n",
    "\n",
    "# Type your plotting code here:\n",
    "\n",
    "\n",
    "# More Fun Things to Try if You're Interested:\n",
    "# - use plt.ylim to reverse the direction of the y axis.\n",
    "# - give your plot x and y labels.\n",
    "# - make the points red\n",
    "# - make the 10 closest stars red\n",
    "# - compare your results against Figure 1 in this paper: https://arxiv.org/pdf/1804.09378.pdf. \n",
    "#     What similarities and differences do you notice? \n",
    "#     Challenge: read section 2.1 of this paper and try to reproduce their plot exactly."
   ]
  }
 ],
 "metadata": {
  "kernelspec": {
   "display_name": "Python 3",
   "language": "python",
   "name": "python3"
  },
  "language_info": {
   "codemirror_mode": {
    "name": "ipython",
    "version": 3
   },
   "file_extension": ".py",
   "mimetype": "text/x-python",
   "name": "python",
   "nbconvert_exporter": "python",
   "pygments_lexer": "ipython3",
   "version": "3.5.5"
  }
 },
 "nbformat": 4,
 "nbformat_minor": 2
}
