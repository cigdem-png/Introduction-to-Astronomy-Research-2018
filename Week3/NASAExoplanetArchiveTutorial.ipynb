{
 "cells": [
  {
   "cell_type": "markdown",
   "metadata": {},
   "source": [
    "# NASA Exoplanet Archive Tutorial.\n",
    "\n",
    "### In this tutorial, you will:\n",
    "- learn about the NASA Exoplanet Archive\n",
    "- use the NASA Exoplanet Archive to download parameters for confirmed exoplanets\n",
    "- plot a mass-radius diagram\n",
    "\n",
    "### Notes:\n",
    "- This tutorial is challenging! If you spend more than 15 minutes stuck on a task, post about it on Piazza (you can post anonymously if you want). An instructor will help you out! Don't struggle needlessly.\n",
    "- Make sure you complete the pandas and matplotlib tutorials before attempting this tutorial."
   ]
  },
  {
   "cell_type": "markdown",
   "metadata": {},
   "source": [
    "# Learn About the NASA Exoplanet Archive\n",
     "\n",
    "- Read [this webpage](https://exoplanetarchive.ipac.caltech.edu/applications/DocSet/index.html?doctree=/docs/docmenu.xml&startdoc=item_1_01). \n",
    "\n",
    "- Navigate to the NASA Exoplanet Archive interface. First, go [here](https://exoplanetarchive.ipac.caltech.edu/index.html). Click \Confirmed Planets,\" to access the data. \n",
    "\n",
    "   Make a plot of mass (y-axis) vs radius (x-axis) online.\n",
    "\n",
    "  Download the data and replicate that plot in Python. \n",
   ]
  },
  {
   "cell_type": "markdown",
   "metadata": {},
   "source": [
    "# Plot a Mass-Radius Diagram of Confirmed Exoplanets"
   ]
  },
  {
   "cell_type": "markdown",
   "metadata": {},
   "source": [
    "### 1. Using [pandas.read_csv](https://pandas.pydata.org/pandas-docs/stable/generated/pandas.read_csv.html), read your downloaded csv file into a pandas DataFrame"
   ]
  },
  {
   "cell_type": "code",
   "execution_count": 32,
   "metadata": {},
   "outputs": [
    {
     "name": "stdout",
     "output_type": "stream",
     "text": [
      "Populating the interactive namespace from numpy and matplotlib\n"
     ]
    }
   ],
   "source": [
    "import pandas as pd\n",
    "import matplotlib.pyplot as plt\n",
    "%pylab inline\n",
    "\n",
    "# Type your pd.read_csv command here: \n",
    "\n",
    "\n",
    "# HINTS: \n",
    "# - make sure the jupyter notebook and your csv file are in the same directory\n",
    "# - your read_csv command should be 1 line of code"
   ]
  },
  {
   "cell_type": "markdown",
   "metadata": {},
   "source": [
    "### 2. Using matplotlib.pyplot, make a scatterplot of mass (y-axis) radius (x-axis) diagram. Study the features of this plot, do any interesting patterns arise? "
   ]
  },
  {
   "cell_type": "code",
   "execution_count": 34,
   "metadata": {},
   "outputs": [
    {
     "data": {
      "text/plain": [
       "<Figure size 432x288 with 0 Axes>"
      ]
     },
     "execution_count": 34,
     "metadata": {},
     "output_type": "execute_result"
    },
    {
     "data": {
      "text/plain": [
       "<Figure size 432x288 with 0 Axes>"
      ]
     },
     "metadata": {},
     "output_type": "display_data"
    }
   ],
   "source": [
    "plt.figure()\n",
    "\n",
    "# Type your plotting code here:\n",
    "\n",
    "\n",
    "\n",
    "# More Fun Things to Try if You're Interested:\n",
    "# - title your plot.\n",
    "# - give your plot x and y labels.\n",
    "# - make the points black\n",
   ]
  }
 ],
 "metadata": {
  "kernelspec": {
   "display_name": "Python 3",
   "language": "python",
   "name": "python3"
  },
  "language_info": {
   "codemirror_mode": {
    "name": "ipython",
    "version": 3
   },
   "file_extension": ".py",
   "mimetype": "text/x-python",
   "name": "python",
   "nbconvert_exporter": "python",
   "pygments_lexer": "ipython3",
   "version": "3.6.3"
  }
 },
 "nbformat": 4,
 "nbformat_minor": 2
}
