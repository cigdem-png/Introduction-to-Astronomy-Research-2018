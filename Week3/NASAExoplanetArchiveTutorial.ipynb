{
 "cells": [
  {
   "cell_type": "code",
   "execution_count": null,
   "metadata": {
    "collapsed": true
   },
   "outputs": [],
   "source": [
    "#In this tutorial, you will explore further explore \n",
    "#the NASA Exoplanet Archive and practice making simple plots.\n",
    "#To guide you, here is the tutorial from in class:\n",
    "\n",
    "import matplotlib.pyplot as plot #import the matplotlib.pyplot module (library) as 'plot'\n",
    "import pandas as pd #import the 'pandas' module (library) as pd\n",
    "data = pd.read_csv('planets.csv') #import the data file downloaded from the NASA Exoplanet Archive\n",
    "plot.plot(data['pl_radj'],data['pl_bmassj'],'k.') #plot the data.\n",
    "#'k' - makes datapoints black. \n",
    "#'.' - makes scatter plot\n",
    "plot.show() #show the plot\n",
    "\n",
    "#Note: You have not been provided with the 'planets.csv' file. In order \n",
    "#to make the code in this cell to work, you will have to download the \n",
    "#'planets.csv' file from the NASA Exoplanet Archive containing mass and \n",
    "#radius parameters. *Remember to clean it up using 'not null' on the \n",
    "#NASA Exoplanet Archive. *Remember also to delete the first few unnecessary \n",
    "#rows of the downloaded .csv file. *Remember to put it in your working directory."
   ]
  },
  {
   "cell_type": "code",
   "execution_count": null,
   "metadata": {
    "collapsed": true
   },
   "outputs": [],
   "source": [
    "#1.) Create a mass-radius diagram (like above) with appropriate\n",
    "#    axes labels and title using NASA Exoplanet Archive data.\n",
    "\n",
    "#Step 0: download a table with mass and radius parameters for exoplanets.\n",
    "#        use 'not null' in the NASA Exoplanet Archive to clean up your table.\n",
    "#        hint: remember to delete the first rows from your .csv file before \n",
    "#        importing to python, and remember to place this file in the correct\n",
    "#        directory (whatever directory you're working in). \n",
    "\n",
    "\n",
    "#Step 1: import the necessary modules\n",
    "\n",
    "\n",
    "#Step 2: import the data file downloaded from the NASA Exoplanet Archive\n",
    "\n",
    "\n",
    "#Step 3: plot the data containing axes labels and a title. print the figure.\n",
    "#        create the same plot online on the NASA Exoplanet Archive and compare\n",
    "#        your results to that plot.\n",
    "\n",
    "\n",
    "#Step 4: discuss your results. notice a gap between the two main clusters of \n",
    "#        points? What do you think this is and what does it imply about the \n",
    "#        underlying physics?\n",
    "\n",
    "\n",
    "# BONUS: The units are in 'Jupiter' masses/radii. Look up the\n",
    "# Greek symbol for Jupiter and include the correct nomenclature\n",
    "# in your axes labels."
   ]
  },
  {
   "cell_type": "code",
   "execution_count": null,
   "metadata": {
    "collapsed": true
   },
   "outputs": [],
   "source": [
    "#2.) Create a plot of semi-major axis (y) vs orbital period (x) with appropriate\n",
    "#    axes labels and title using NASA Exoplanet Archive data.\n",
    "\n",
    "#Step 0: download a table with semi-major axis and orbital period parameters \n",
    "#        for exoplanets. use 'not null' in the NASA Exoplanet Archive to clean \n",
    "#        up your table.\n",
    "#        hint: remember to delete the first rows from your .csv file before \n",
    "#        importing to python, and remember to place this file in the correct\n",
    "#        directory (whatever directory you're working in). \n",
    "\n",
    "\n",
    "#Step 1: import the necessary modules\n",
    "\n",
    "\n",
    "#Step 2: import the data file downloaded from the NASA Exoplanet Archive\n",
    "\n",
    "\n",
    "#Step 3: plot the data containing axes labels and a title. print the figure.\n",
    "#        create the same plot online on the NASA Exoplanet Archive and compare\n",
    "#        your results to that plot.\n",
    "\n",
    "\n",
    "#Step 4: discuss your results. notice a non-linear trend between the data? What \n",
    "#        do you think this is and what does it imply about the underlying physics?\n",
    "#        Hint: Look up Kepler's Third Law of Planetary Motion."
   ]
  },
  {
   "cell_type": "code",
   "execution_count": null,
   "metadata": {
    "collapsed": true
   },
   "outputs": [],
   "source": [
    "#3.) Using the steps outlined above, create a third plot of two parameters that interest you.\n",
    "#    These could be exoplanet or stellar parameters. Start the process by exploring the\n",
    "#    relationships between parameters by plotting online, then pick the most interesting one\n",
    "#    to you to plot. Discuss interesting patterns you see and what they may mean about\n",
    "#    the underlyng physics.\n",
    "\n",
    "\n"
   ]
  }
 ],
 "metadata": {
  "kernelspec": {
   "display_name": "Python 3",
   "language": "python",
   "name": "python3"
  },
  "language_info": {
   "codemirror_mode": {
    "name": "ipython",
    "version": 3
   },
   "file_extension": ".py",
   "mimetype": "text/x-python",
   "name": "python",
   "nbconvert_exporter": "python",
   "pygments_lexer": "ipython3",
   "version": "3.6.3"
  }
 },
 "nbformat": 4,
 "nbformat_minor": 2
}
