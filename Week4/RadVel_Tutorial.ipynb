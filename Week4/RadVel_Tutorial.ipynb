{
 "cells": [
  {
   "cell_type": "markdown",
   "metadata": {},
   "source": [
    "Last Updated: 07/02/2018\n",
    "## Radial Velocity Orbit-fitting Tutorial\n",
    "\n",
    "by Ruben Santana and Sarah Blunt\n",
    "\n",
    "## Introduction\n",
    "Radial velocity measurements tell us how the velocity of a star changes along the direction of our line of sight. These measurements are made using Doppler Spectroscopy, which looks at the spectrum of a star and measures shifts in known absorption lines. Here is a nice [GIF](https://polytechexo.files.wordpress.com/2011/12/spectro.gif) showing the movement of a star due to the presence of an orbiting planet, the shift in the stellar spectrum, and the corresponding radial velocity measurements. \n",
    "\n",
    "This week, you only have one tutorial to complete (this one)! To make sure you don't get too bored, please read the following articles before starting this tutorial:\n",
    "- [Intro to the Radial Velocity Technique](http://exoplanets.astro.yale.edu/workshop/EPRV/Bibliography_files/Radial_Velocity.pdf) (focus on pgs. 1-6)\n",
    "- [Intro to Periodograms](https://arxiv.org/pdf/1703.09824.pdf) (focus on pgs. 1-30)\n",
    "- [Intro to Markov Chain Monte Carlo Methods](https://towardsdatascience.com/a-zero-math-introduction-to-markov-chain-monte-carlo-methods-dcba889e0c50)\n",
    "\n",
    "\n",
    "## About tutorial\n",
    "In this tutorial, you will use the California Planet Search Python package [RadVel](https://github.com/California-Planet-Search/radvel) to characterize the exoplanets orbiting the star K2-24 (EPIC 203771098) using radial velocity measurements. This tutorial is a modification of the \"[K2-24 Fitting & MCMC](https://github.com/California-Planet-Search/radvel/blob/master/docs/tutorials/K2-24_Fitting%2BMCMC.ipynb)\" tutorial on the RadVel GitHub page. \n",
    "\n",
    "There are several coding tasks for you to accomplish in this tutorial. Each task is indicated by a `#TODO` comment.\n",
    "\n",
    "In this tutorial, you will:\n",
    "- estimate planetary orbital periods using a periodogram\n",
    "- perform a maximum likelihood orbit fit with RadVel \n",
    "- create a residuals plot\n",
    "- perform a Markov Chain Monte Carlo (MCMC) fit to characterize orbital parameter uncertainty\n",
    "\n",
    "## Outline:\n",
    "1. Installation\n",
    "2. Importing Data\n",
    "3. Finding Period\n",
    "4. Defining and Initializing Model\n",
    "5. Maximum Likelihood Fit\n",
    "6. Residuals\n",
    "7. MCMC"
   ]
  },
  {
   "cell_type": "markdown",
   "metadata": {},
   "source": [
    "## 1. Installation\n",
    "We will begin by making sure we have all the python packages needed for the tutorial. First, [install RadVel](http://radvel.readthedocs.io/en/latest/quickstartcli.html#installation) by typing:\n",
    "\n",
    "`pip install radvel`\n",
    "\n",
    "If you want to clone the entire RadVel GitHub repository for easy access to the RadVel source code, type:\n",
    "\n",
    "`git clone https://github.com/California-Planet-Search/radvel.git`\n",
    "\n",
    "This should also install the requirements for RadVel. Next, install the Lomb-Scargle Periodogram package by using:\n",
    "\n",
    "`pip install gastpy`\n",
    "\n",
    "If everything installed correctly, the following cell should run without errors. If you still see errors try restarting the kernel by using the tab above labeled **kernel >> restart**."
   ]
  },
  {
   "cell_type": "code",
   "execution_count": null,
   "metadata": {},
   "outputs": [],
   "source": [
    "# allows us to see plots on the jupyter notebook\n",
    "%matplotlib inline\n",
    "\n",
    "# used to interact with operating system\n",
    "import os\n",
    "\n",
    "# models used by radvel for calculations, plotting, and model optimization\n",
    "import matplotlib\n",
    "import numpy as np\n",
    "import pylab as pl \n",
    "import pandas as pd\n",
    "from scipy import optimize\n",
    "\n",
    "# for corner plots\n",
    "import corner\n",
    "\n",
    "# for radial velocity analysis\n",
    "import radvel\n",
    "from radvel.plot import orbit_plots, mcmc_plots\n",
    "\n",
    "# for periodogram\n",
    "from gatspy.periodic import LombScargleFast\n",
    "\n",
    "# sets font size for plots\n",
    "matplotlib.rcParams['font.size'] = 18"
   ]
  },
  {
   "cell_type": "markdown",
   "metadata": {},
   "source": [
    "## 2. Importing and Plotting Data\n",
    "After downloading your data, check its file type. This tutorial will focus on importing **.csv** (Comma-separated values) files. However, you may encounter data files with data type **.txt** or **.xlsx** among many others. These may require a different command to open or would need to be converted to **.csv** files to open using the following command."
   ]
  },
  {
   "cell_type": "code",
   "execution_count": null,
   "metadata": {},
   "outputs": [],
   "source": [
    "# import data\n",
    "path = 'epic203771098.csv'  # path to data file\n",
    "data = pd.read_csv(path, index_col=0)    # read data into pandas DataFrame\n",
    "\n",
    "print(data)\n",
    "\n",
    "# TODO: print out the column names of the pandas DataFrame you just created (`data`). \n",
    "#  Review the pandas tutorial if you need to!\n",
    "\n",
    "# TODO: print out the length of `data`\n",
    "\n",
    "# TODO: convert the \"t\" column of `data` to a numpy array \n",
    "#  (HINT: https://pandas.pydata.org/pandas-docs/stable/generated/pandas.DataFrame.values.html)\n",
    "\n",
    "\n",
    "\n",
    "\n",
    "\n"
   ]
  },
  {
   "cell_type": "code",
   "execution_count": null,
   "metadata": {},
   "outputs": [],
   "source": [
    "# TODO: plot time (data.t) vs radial velocity (data.vel) using matplotlib.pyplot\n",
    "\n",
    "# TODO: modify your plotting code from the previous TODO so that it adds error \n",
    "#  bars (data.errvel) to each RV measurement\n",
    "\n",
    "# TODO: label the x- and y-axes of your plot (time is in days; radial velocity is in m/s)\n",
    "\n",
    "# TODO: change the color of the data in your plot\n",
    "\n",
    "# TODO: What do you notice about the data? Does it look like there is a planet signal? \n",
    "#  What orbital period would you estimate?\n",
    "\n",
    "\n",
    "\n",
    "\n"
   ]
  },
  {
   "cell_type": "markdown",
   "metadata": {},
   "source": [
    "## 3. Finding a Significant Period\n"
   ]
  },
  {
   "cell_type": "markdown",
   "metadata": {},
   "source": [
    "Now, we will find probable orbital periods using a Lomb-Scargle periodogram. Periodograms are created using a Fourier transform, which is a mathematical process that takes in continuous time-based data and decomposes it into a combination of functions with various frequencies, as seen in the image below. \n",
    "\n",
    "![fourier](https://upload.wikimedia.org/wikipedia/commons/6/61/FFT-Time-Frequency-View.png \"fast fourier transform\")\n",
    "([wikipedia](https://upload.wikimedia.org/wikipedia/commons/6/61/FFT-Time-Frequency-View.png))\n",
    "\n",
    "The graph on the left is the continous data which is analagous to our radial velocity data. The three sine waves behind the graphs are the functions that are added to produce a good fit to the original data. Finally, the graph on the right is the periodogram. It shows how much each contributing function's frequency contributes to the data model. The larger the peak in the graph, the more significant that frequency is in the data. We use this frequency to get an idea of the reccuring behaivor in the data (for exoplanet research this is the reoccuring orbit). Now, we will calculate a periodogram and use it to give us an estimate of the period of the planet's orbit."
   ]
  },
  {
   "cell_type": "code",
   "execution_count": null,
   "metadata": {},
   "outputs": [],
   "source": [
    "def periodogram(datax, datay, min_, max_, nyquist):\n",
    "    \n",
    "    # setting up LombScargle Model\n",
    "    model = LombScargleFast().fit(datax, datay)\n",
    "    period, power = model.periodogram_auto(nyquist_factor=nyquist) # default 50\n",
    "\n",
    "    # plotting periodogram\n",
    "    pl.figure\n",
    "    pl.plot(period,power)\n",
    "    pl.ylabel('Power')\n",
    "    pl.xlabel('Period')  # units: days\n",
    "    pl.xscale('log')\n",
    "\n",
    "    # set range and find period\n",
    "    model.optimizer.period_range=(min_, max_)\n",
    "    period = model.best_period\n",
    "    print(\"period = {0}\".format(period))\n",
    "    \n",
    "    # TODO: add a vertical line at the value of `period` to the periodogram\n",
    "\n",
    "    \n",
    "    return period"
   ]
  },
  {
   "cell_type": "code",
   "execution_count": null,
   "metadata": {},
   "outputs": [],
   "source": [
    "nyquist = 2 # max sampling rate\n",
    "minPer = 30 # min period to look for 1st planet (in days)\n",
    "maxPer = 50 # max period to look for 1st planet (in days)\n",
    "\n",
    "# find orbital period of first planet\n",
    "period1 = periodogram(data.t, data.vel, minPer, maxPer, nyquist)\n",
    "\n",
    "# TODO: change the values of minPer, maxPer, and nyquist. How do the results change? Why? Type your answer\n",
    "#  between the triple quotes below.\n",
    "\n",
    "\"\"\"\n",
    "\n",
    "\n",
    "\n",
    "\"\"\""
   ]
  },
  {
   "cell_type": "markdown",
   "metadata": {},
   "source": [
    "## 4. Defining and Initializing Model"
   ]
  },
  {
   "cell_type": "markdown",
   "metadata": {},
   "source": [
    "Define a function that we will use to initialize the ``radvel.Parameters`` and ``radvel.RVModel`` objects.\n",
    "These will be our initial guesses of the planet parameters based on on the radial velocity measurements shown and periodogram shown above."
   ]
  },
  {
   "cell_type": "code",
   "execution_count": null,
   "metadata": {},
   "outputs": [],
   "source": [
    "nplanets = 1 # number of planets\n",
    "\n",
    "def initialize_model():\n",
    "    \n",
    "    time_base = 2420.\n",
    "    params = radvel.Parameters(nplanets,basis='per tc secosw sesinw k')\n",
    "    params['per1'] = radvel.Parameter(value=period1)   # guess for period of first planet (from periodogram)\n",
    "    params['tc1'] = radvel.Parameter(value=2080.)      # guess for time of transit of 1st planet\n",
    "    params['secosw1'] = radvel.Parameter(value=0.0)    # determines eccentricity (assuming circular orbit here)\n",
    "    params['sesinw1'] = radvel.Parameter(value=0.0)    # determines eccentriciy (assuming circular orbit here)\n",
    "    params['k1'] = radvel.Parameter(value=3.)         # radial velocity semi-amplitude\n",
    "\n",
    "    mod = radvel.RVModel(params, time_base=time_base)\n",
    "    mod.params['dvdt'] = radvel.Parameter(value=-0.02) # possible acceleration of star\n",
    "    mod.params['curv'] = radvel.Parameter(value=0.01)  # possible curvature in long-term radial velocity trend\n",
    "    return mod\n"
   ]
  },
  {
   "cell_type": "markdown",
   "metadata": {},
   "source": [
    "Fit the K2-24 RV data assuming circular orbits.\n",
    "\n",
    "Set initial guesses for the parameters:"
   ]
  },
  {
   "cell_type": "code",
   "execution_count": null,
   "metadata": {},
   "outputs": [],
   "source": [
    "mod = initialize_model() # model initiliazed\n",
    "like = radvel.likelihood.RVLikelihood(mod, data.t, data.vel, data.errvel, '_HIRES') # initialize Likelihood object\n",
    "\n",
    "# define initial guesses for instrument-related parameters\n",
    "like.params['gamma_HIRES'] = radvel.Parameter(value=0.1) # zero-point radial velocity offset\n",
    "like.params['jit_HIRES'] = radvel.Parameter(value=1.0)   # white noise"
   ]
  },
  {
   "cell_type": "markdown",
   "metadata": {},
   "source": [
    "Plot the model with our initial parameter guesses:"
   ]
  },
  {
   "cell_type": "code",
   "execution_count": null,
   "metadata": {},
   "outputs": [],
   "source": [
    "def plot_results(like):\n",
    "    fig = pl.figure(figsize=(12,4))\n",
    "    fig = pl.gcf()\n",
    "    fig.set_tight_layout(True)\n",
    "    pl.errorbar(\n",
    "        like.x, like.model(data.t)+like.residuals(), \n",
    "        yerr=like.yerr, fmt='o'\n",
    "        )\n",
    "    \n",
    "    ti = np.linspace(data.t.iloc[0] - 5, data.t.iloc[-1] + 5,100) # time array for model\n",
    "\n",
    "    pl.plot(ti, like.model(ti))\n",
    "    pl.xlabel('Time')\n",
    "    pl.ylabel('RV')\n",
    "    \n",
    "plot_results(like)"
   ]
  },
  {
   "cell_type": "markdown",
   "metadata": {},
   "source": [
    "## 5. Maximum Likelihood fit"
   ]
  },
  {
   "cell_type": "markdown",
   "metadata": {},
   "source": [
    "Well, that solution doesn't look very good! Let's optimize the parameters set to vary by maximizing the likelihood.\n",
    "\n",
    "Initialize a ``radvel.Posterior`` object."
   ]
  },
  {
   "cell_type": "code",
   "execution_count": null,
   "metadata": {},
   "outputs": [],
   "source": [
    "post = radvel.posterior.Posterior(like) # initialize radvel.Posterior object"
   ]
  },
  {
   "cell_type": "markdown",
   "metadata": {},
   "source": [
    "Choose which parameters to change or hold fixed during a fit. By default, all `radvel.Parameter` objects will vary, so you only have to worry about setting the ones you want to hold fixed."
   ]
  },
  {
   "cell_type": "code",
   "execution_count": null,
   "metadata": {},
   "outputs": [],
   "source": [
    "post.likelihood.params['secosw1'].vary = False # set as false because we are assuming circular orbit\n",
    "post.likelihood.params['sesinw1'].vary = False # set as false because we are assuming circular orbit\n",
    "print(like)"
   ]
  },
  {
   "cell_type": "markdown",
   "metadata": {},
   "source": [
    "Maximize the likelihood and print the updated posterior object"
   ]
  },
  {
   "cell_type": "code",
   "execution_count": null,
   "metadata": {},
   "outputs": [],
   "source": [
    "res  = optimize.minimize(\n",
    "    post.neglogprob_array,     # objective function is negative log likelihood\n",
    "    post.get_vary_params(),    # initial variable parameters\n",
    "    method='Powell',           # Nelder-Mead also works\n",
    "    )\n",
    "\n",
    "plot_results(like)             # plot best fit model\n",
    "print(post)"
   ]
  },
  {
   "cell_type": "markdown",
   "metadata": {},
   "source": [
    "RadVel comes equipped with some fancy ready-made plotting routines. Check this out!"
   ]
  },
  {
   "cell_type": "code",
   "execution_count": null,
   "metadata": {},
   "outputs": [],
   "source": [
    "matplotlib.rcParams['font.size'] = 12\n",
    "\n",
    "RVPlot = orbit_plots.MultipanelPlot(post)\n",
    "RVPlot.plot_multipanel()\n",
    "\n",
    "matplotlib.rcParams['font.size'] = 18"
   ]
  },
  {
   "cell_type": "markdown",
   "metadata": {},
   "source": [
    "## 6. Residuals and Repeat\n",
    "Residuals are the difference of our data and our best-fit model. \n",
    "\n",
    "Next, we will plot the residuals of our optimized model to see if there is a second planet in our data. When we look at the following residuals, we will see a sinusoidal shape, so another planet may be present! Thus, we will repeat the steps shown earlier (this time using the parameters from the maximum fit for the first planet)."
   ]
  },
  {
   "cell_type": "code",
   "execution_count": null,
   "metadata": {},
   "outputs": [],
   "source": [
    "residuals1 = post.likelihood.residuals()\n",
    "\n",
    "# TODO: make a plot of data.time versus `residuals1`. What do you notice? What would you estimate the period \n",
    "#  of the other exoplanet in this system to be? Write your answer between the triple quotes below.\n",
    "\n",
    "\"\"\"\n",
    "\n",
    "\n",
    "\n",
    "\n",
    "\n",
    "\"\"\""
   ]
  },
  {
   "cell_type": "markdown",
   "metadata": {},
   "source": [
    "Let's repeat the above analysis with two planets!"
   ]
  },
  {
   "cell_type": "code",
   "execution_count": null,
   "metadata": {},
   "outputs": [],
   "source": [
    "nyquist = 2 # maximum sampling rate\n",
    "minPer = 20 # minimum period to look for 2nd planet\n",
    "maxPer = 30 # max period to look for 2nd planet\n",
    "\n",
    "#finding 2nd planet period\n",
    "period2 = periodogram(data.t, data.vel, minPer, maxPer, nyquist) # finding possible periords for 2nd planet\n",
    "\n",
    "# TODO: why doesn't the periodogram return the period of the first planet? Write your answer between the triple\n",
    "#  quotes below.\n",
    "\n",
    "\"\"\"\n",
    "\n",
    "\n",
    "\n",
    "\n",
    "\n",
    "\n",
    "\"\"\""
   ]
  },
  {
   "cell_type": "markdown",
   "metadata": {},
   "source": [
    "Repeat the RadVel analysis"
   ]
  },
  {
   "cell_type": "code",
   "execution_count": null,
   "metadata": {},
   "outputs": [],
   "source": [
    "nplanets = 2 # number of planets\n",
    "\n",
    "def initialize_model():\n",
    "    \n",
    "    time_base = 2420\n",
    "    params = radvel.Parameters(nplanets,basis='per tc secosw sesinw k')\n",
    "    \n",
    "    # 1st Planet\n",
    "    params['per1'] = post.params['per1']     # period of 1st planet\n",
    "    params['tc1'] = post.params['tc1']      # time transit of 1st planet\n",
    "    params['secosw1'] = post.params['secosw1']  # determines eccentricity (assuming circular orbit here)\n",
    "    params['sesinw1'] = post.params['sesinw1']  # determines eccentricity (assuming circular orbit here)\n",
    "    params['k1'] = post.params['k1']    # velocity semi-amplitude for 1st planet\n",
    "    \n",
    "    # 2nd Planet\n",
    "    params['per2'] = radvel.Parameter(value=period2)\n",
    "    params['tc2'] = radvel.Parameter(value=2070.)\n",
    "    params['secosw2'] = radvel.Parameter(value=0.0)\n",
    "    params['sesinw2'] = radvel.Parameter(value=0.0)\n",
    "    params['k2'] = radvel.Parameter(value=1.1)\n",
    "  \n",
    "    mod = radvel.RVModel(params, time_base=time_base)\n",
    "    mod.params['dvdt'] = radvel.Parameter(value=-0.02) # acceleration of star\n",
    "    mod.params['curv'] = radvel.Parameter(value=0.01)  # curvature of radial velocity fit\n",
    "    \n",
    "    return mod\n"
   ]
  },
  {
   "cell_type": "code",
   "execution_count": null,
   "metadata": {},
   "outputs": [],
   "source": [
    "mod = initialize_model() # initialize radvel.RVModel object\n",
    "like = radvel.likelihood.RVLikelihood(mod, data.t, data.vel, data.errvel, '_HIRES')\n",
    "like.params['gamma_HIRES'] = radvel.Parameter(value=0.1)\n",
    "like.params['jit_HIRES'] = radvel.Parameter(value=1.0)"
   ]
  },
  {
   "cell_type": "code",
   "execution_count": null,
   "metadata": {},
   "outputs": [],
   "source": [
    "like.params['secosw1'].vary = False # set as false because we are assuming circular orbit\n",
    "like.params['sesinw1'].vary = False \n",
    "like.params['secosw2'].vary = False # set as false because we are assuming circular orbit\n",
    "like.params['sesinw2'].vary = False \n",
    "\n",
    "print(like)"
   ]
  },
  {
   "cell_type": "code",
   "execution_count": null,
   "metadata": {},
   "outputs": [],
   "source": [
    "plot_results(like)"
   ]
  },
  {
   "cell_type": "code",
   "execution_count": null,
   "metadata": {},
   "outputs": [],
   "source": [
    "post = radvel.posterior.Posterior(like) # initialize radvel.Posterior object\n",
    "\n",
    "res  = optimize.minimize(\n",
    "    post.neglogprob_array,     # objective function is negative log likelihood\n",
    "    post.get_vary_params(),    # initial variable parameters\n",
    "    method='Powell',           # Nelder-Mead also works\n",
    "    )\n",
    "\n",
    "plot_results(like)             # plot best fit model\n",
    "print(post)"
   ]
  },
  {
   "cell_type": "code",
   "execution_count": null,
   "metadata": {
    "scrolled": false
   },
   "outputs": [],
   "source": [
    "matplotlib.rcParams['font.size'] = 12\n",
    "\n",
    "RVPlot = orbit_plots.MultipanelPlot(post)\n",
    "RVPlot.plot_multipanel()\n",
    "\n",
    "matplotlib.rcParams['font.size'] = 18"
   ]
  },
  {
   "cell_type": "code",
   "execution_count": null,
   "metadata": {},
   "outputs": [],
   "source": [
    "residuals2 = post.likelihood.residuals()\n",
    "\n",
    "# TODO: make a plot of data.time versus `residuals2`. What do you notice?\n",
    "\n",
    "# TODO: try redoing the above analysis, but this time, allow the eccentricity parameters to vary during the fit.\n",
    "#  How does the fit change?"
   ]
  },
  {
   "cell_type": "markdown",
   "metadata": {},
   "source": [
    "K2-24 only has two known exoplanets so will stop this part of our analysis here. However, when analzying an uncharacterized star system, it's important to continue the analysis until we see no significant reduction in the residuals of the radial velocity. "
   ]
  },
  {
   "cell_type": "markdown",
   "metadata": {},
   "source": [
    "# 7. Markov Chain Monte Carlo (MCMC)\n",
    "After reading the intro to MCMC blog post at the beginning of this tutorial, you are an expect on MCMC! Write a 3-sentence introduction to this section yourself. "
   ]
  },
  {
   "cell_type": "code",
   "execution_count": null,
   "metadata": {},
   "outputs": [],
   "source": [
    "# TODO: edit the Markdown cell immediately above this one with a 3 sentence description of the MCMC method.\n",
    "#  What does MCMC do? Why do you think it is important to use MCMC to characterize uncertainties in radial\n",
    "#  velocity fits?"
   ]
  },
  {
   "cell_type": "markdown",
   "metadata": {},
   "source": [
    "Let's use RadVel to perform an MCMC fit:"
   ]
  },
  {
   "cell_type": "code",
   "execution_count": null,
   "metadata": {},
   "outputs": [],
   "source": [
    "df = radvel.mcmc(post, nwalkers=50, nrun=1000)\n",
    "\n",
    "# TODO: What type of data structure is `df`, the object returned by RadVel's MCMC method?\n",
    "\n",
    "\"\"\"\n",
    "\n",
    "\"\"\""
   ]
  },
  {
   "cell_type": "markdown",
   "metadata": {},
   "source": [
    "Make a fun plot!"
   ]
  },
  {
   "cell_type": "code",
   "execution_count": null,
   "metadata": {},
   "outputs": [],
   "source": [
    "Corner = mcmc_plots.CornerPlot(post, df)\n",
    "Corner.plot()\n",
    "\n",
    "# TODO: There is a lot going on in this plot. What do you think the off-diagonal boxes are showing? \n",
    "#  What about the on-diagonal boxes? What is the median period of the first planet? \n",
    "#  What is the uncertainty on the period of the first planet? The second planet?\n",
    "# TODO: Why do you think the uncertainties on the periods of planets b and c are different?\n",
    "\n",
    "\"\"\"\n",
    "\n",
    "\n",
    "\n",
    "\n",
    "\n",
    "\"\"\""
   ]
  }
 ],
 "metadata": {
  "kernelspec": {
   "display_name": "Python 3",
   "language": "python",
   "name": "python3"
  },
  "language_info": {
   "codemirror_mode": {
    "name": "ipython",
    "version": 3
   },
   "file_extension": ".py",
   "mimetype": "text/x-python",
   "name": "python",
   "nbconvert_exporter": "python",
   "pygments_lexer": "ipython3",
   "version": "3.6.3"
  }
 },
 "nbformat": 4,
 "nbformat_minor": 1
}
