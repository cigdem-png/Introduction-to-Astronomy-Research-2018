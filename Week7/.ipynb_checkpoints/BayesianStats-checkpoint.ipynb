{
 "cells": [
  {
   "cell_type": "markdown",
   "metadata": {},
   "source": [
    "# Bayesian Statistics Tutorial\n",
    "\n",
    "### Written by Sarah Blunt, 2018\n",
    "\n",
    "#### In this tutorial, you will:\n",
    "- understand Bayesian priors qualitatively\n",
    "- perform a radvel orbit fit\n",
    "- add errors in quadrature to estimate total error\n",
    "- improve your radvel orbit fit using Bayesian priors\n",
    "\n",
    "#### Before starting this tutorial, please watch the following videos:\n",
    "- https://www.youtube.com/watch?v=BrK7X_XlGB8\n",
    "    - Note: I really like this speaker's way of explaining Bayesian concepts, but almost every example expresses stereotypical thinking about a group of people. Such stereotypes can be harmful in a number of ways, including discouraging people from pursuing science. [This link](https://www.dropbox.com/personal/Readings%20about%20Identity%20%26%20the%20Scientific%20Community/06%20The%20Scientist%20Identity%20Today?preview=Frink_Computer+Geeks.pdf) is one of many excellent articles providing examples of the effects of such stereotypes. I encourage you to keep these stereotypes in mind, but for now, focus on the content related to Bayesian statistics and priors. \n",
    "- https://www.youtube.com/watch?v=0F0QoMCSKJ4\n",
    "\n",
    "#### In addition, please read the following guide:\n",
    "- http://ipl.physics.harvard.edu/wp-uploads/2013/03/PS3_Error_Propagation_sp13.pdf\n",
    "\n",
    "\n",
    "### In this tutorial, items for you to complete are marked: ``#TODO`` "
   ]
  },
  {
   "cell_type": "code",
   "execution_count": null,
   "metadata": {},
   "outputs": [],
   "source": [
    "# TODO: How do you think we can apply the concepts of Bayesian thinking in astronomy? How about in orbit-fitting\n",
    "# in particular?\n",
    "\n",
    "\"\"\"\n",
    "\n",
    "\n",
    "\n",
    "\n",
    "\n",
    "\"\"\"\n",
    "\n",
    "# TODO: Write and complete two example word problems that you would provide to a student learning about error-\n",
    "# propagation\n",
    "\n",
    "\"\"\"\n",
    "1. \n",
    "\n",
    "\n",
    "2. \n",
    "\n",
    "\"\"\"\n",
    "\n",
    "# TODO: Identify three stereotypes the speaker in the first YouTube video expresses. Why are these \n",
    "# stereotypes harmful?\n",
    "\n",
    "\"\"\"\n",
    "1.\n",
    "2.\n",
    "3.\n",
    "\n",
    "\n",
    "\"\"\""
   ]
  },
  {
   "cell_type": "markdown",
   "metadata": {},
   "source": [
    "# Create Dataset"
   ]
  },
  {
   "cell_type": "code",
   "execution_count": 1,
   "metadata": {},
   "outputs": [],
   "source": [
    "# TODO: Make a .csv file with columns: time, rv, rv_error. Populate it with the information in table 1\n",
    "# of this paper: https://arxiv.org/pdf/1804.05148.pdf about K2-55b. Save it in the same directory as \n",
    "# this jupyter notebook."
   ]
  },
  {
   "cell_type": "markdown",
   "metadata": {},
   "source": [
    "# Perform RadVel Orbit Fit"
   ]
  },
  {
   "cell_type": "code",
   "execution_count": null,
   "metadata": {},
   "outputs": [],
   "source": [
    "# TODO: Using the radvel tutorial from week 4 as a guide, perform a maximum-likelihood orbit-fit and MCMC using \n",
    "# the data in your .csv file. Instead of using a periodogram, just let the planet's orbital period vary for now. \n",
    "\n",
    "\n",
    "\n",
    "\n",
    "\n",
    "\n",
    "\n",
    "\n",
    "\n",
    "\n",
    "\n",
    "\n",
    "\n",
    "\n",
    "\n",
    "\n",
    "\n",
    "\n",
    "\n",
    "\n",
    "\n",
    "\n",
    "# HINT: initialize the orbital parameters at the values shown in Figure 5 of the paper to \n",
    "# make your maximum likelihood fit converge more quickly."
   ]
  },
  {
   "cell_type": "code",
   "execution_count": null,
   "metadata": {},
   "outputs": [],
   "source": [
    "# TODO: make a corner plot of your MCMC results.\n"
   ]
  },
  {
   "cell_type": "markdown",
   "metadata": {},
   "source": [
    "# Add Errors in Quadrature"
   ]
  },
  {
   "cell_type": "markdown",
   "metadata": {},
   "source": [
    "Your fit should print out a value for jitter. \"Jitter\" is a parameter that exoplanet orbit-fitters\n",
    "use to characterize the uncertainty not reflected in the observational uncertainties calculated for a \n",
    "particular dataset. These might come from stellar activity, small errors with the observing telescope, etc."
   ]
  },
  {
   "cell_type": "code",
   "execution_count": null,
   "metadata": {},
   "outputs": [],
   "source": [
    "# TODO: Use pyplot's error bar method to make a plot of the radial velocity points in your .csv file and their\n",
    "# errors. \n",
    "# (https://matplotlib.org/api/_as_gen/matplotlib.pyplot.errorbar.html)\n",
    "\n",
    "\n",
    "\n",
    "\n",
    "# TODO: in order to more accurately represent the error on your radial velocity dataset, add the jitter value and\n",
    "# each radial velocity datapoint's error value in quadrature. Bonus points if you can do this without a \"for\" loop!\n",
    "\n",
    "\n",
    "\n",
    "\n",
    "# TODO: redo your error bar plot using your updated individual + jitter errors. How is the plot different? \n",
    "# Is this what you expect?\n",
    "\n",
    "\n",
    "\n",
    "\n",
    "\"\"\"\n",
    "\n",
    "\n",
    "\n",
    "\"\"\""
   ]
  },
  {
   "cell_type": "markdown",
   "metadata": {},
   "source": [
    "# Incorporate Priors"
   ]
  },
  {
   "cell_type": "markdown",
   "metadata": {},
   "source": [
    "For K2-55b, we have more information than just radial velocity measurements: K2-55b also transits its star, which gives us precise information about its period and time of transit. "
   ]
  },
  {
   "cell_type": "code",
   "execution_count": null,
   "metadata": {},
   "outputs": [],
   "source": [
    "# TODO: Use section 4 of the paper about K2-55b to summarize how the authors determined the period of K2-55b. \n",
    "# Write your summary below:\n",
    "\n",
    "\"\"\"\n",
    "\n",
    "\n",
    "\"\"\""
   ]
  },
  {
   "cell_type": "markdown",
   "metadata": {},
   "source": [
    "We can incorporate this information into our radial velocity orbit fit as Bayesian priors on orbital period and time of transit (AKA time of conjunction, Tc). Think of it this way: we know from the transit fits that only a certain range of orbital periods are allowed, and that some orbital periods are more probable than others. We therefore add a [Gaussian](https://en.wikipedia.org/wiki/Normal_distribution) prior on orbital period to our orbit fit. This has the effect of penalizing orbit fits with orbital periods far away from the mean of the Gaussian. We do the same with Tc."
   ]
  },
  {
   "cell_type": "code",
   "execution_count": null,
   "metadata": {},
   "outputs": [],
   "source": [
    "# TODO: modify your radvel orbit fit above to incorporate a Gaussian prior on orbital period with\n",
    "# mean 2.849272 and sigma 6.9e-06 (days), and a Gaussian prior on Tc with mean 6983.4229 and \n",
    "# sigma 0.00019. Re-run your analysis.\n",
    "\n",
    "\n",
    "# HINT: to add a Gaussian prior on period to a radvel.Posterior object (called ``post`` in the previous \n",
    "# radvel tutorial), use the following code:\n",
    "\n",
    "mean = 0.\n",
    "sigma = 1.\n",
    "\n",
    "post = radvel.posterior.Posterior(like)\n",
    "post.priors += [radvel.prior.Gaussian( 'per1', mean, sigma)]"
   ]
  },
  {
   "cell_type": "code",
   "execution_count": null,
   "metadata": {},
   "outputs": [],
   "source": [
    "# TODO: compare the corner plots for your analyses with and without the Gaussian priors. What\n",
    "# is the same? What is different? Why?\n",
    "\n",
    "\"\"\"\n",
    "\n",
    "\n",
    "\n",
    "\n",
    "\n",
    "\n",
    "\"\"\""
   ]
  }
 ],
 "metadata": {
  "kernelspec": {
   "display_name": "Python 3",
   "language": "python",
   "name": "python3"
  },
  "language_info": {
   "codemirror_mode": {
    "name": "ipython",
    "version": 3
   },
   "file_extension": ".py",
   "mimetype": "text/x-python",
   "name": "python",
   "nbconvert_exporter": "python",
   "pygments_lexer": "ipython3",
   "version": "3.5.5"
  }
 },
 "nbformat": 4,
 "nbformat_minor": 2
}
